{
 "cells": [
  {
   "cell_type": "code",
   "execution_count": 71,
   "id": "8190db7c-f664-4f09-8ca3-e9d97bd152c8",
   "metadata": {},
   "outputs": [],
   "source": [
    "import cv2\n",
    "from PIL import Image\n",
    "import numpy as np\n",
    "\n",
    "image = cv2.imread('alwan.jpg')  \n",
    "\n",
    "  "
   ]
  },
  {
   "cell_type": "code",
   "execution_count": 72,
   "id": "dd44dfad",
   "metadata": {},
   "outputs": [],
   "source": [
    "gray = (0.2989 * image[:, :, 2] + 0.5870 * image[:, :, 1] + 0.1140 * image[:, :, 0]).astype(np.uint8)\n",
    "\n",
    "    "
   ]
  },
  {
   "cell_type": "code",
   "execution_count": 73,
   "id": "f66e8dda",
   "metadata": {},
   "outputs": [],
   "source": [
    "compressed_np = gray[::2, ::2]  \n",
    "\n",
    "compressed_image = Image.fromarray(compressed_np.astype(np.uint8))\n",
    "compressed_image.save(\"img_compres.png\")\n"
   ]
  },
  {
   "cell_type": "code",
   "execution_count": 74,
   "id": "5352a656",
   "metadata": {},
   "outputs": [
    {
     "data": {
      "text/plain": [
       "True"
      ]
     },
     "execution_count": 74,
     "metadata": {},
     "output_type": "execute_result"
    }
   ],
   "source": [
    "import numpy as np\n",
    "import cv2\n",
    "\n",
    "# Fonction pour répéter chaque pixel 2x2\n",
    "def zoom_image(image):\n",
    "    height, width = image.shape\n",
    "    zoomed_image = np.zeros((height * 2, width * 2), dtype=np.uint8)\n",
    "\n",
    "    for i in range(height):\n",
    "        for j in range(width):\n",
    "            pixel = image[i, j]\n",
    "            zoomed_image[2*i, 2*j] = pixel\n",
    "            zoomed_image[2*i+1, 2*j] = pixel\n",
    "            zoomed_image[2*i, 2*j+1] = pixel\n",
    "            zoomed_image[2*i+1, 2*j+1] = pixel\n",
    "\n",
    "    return zoomed_image\n",
    "\n",
    "# Charger l’image\n",
    "image = cv2.imread('alwan.jpg')\n",
    "gray = (0.2989 * image[:, :, 2] + 0.5870 * image[:, :, 1] + 0.1140 * image[:, :, 0]).astype(np.uint8)\n",
    "\n",
    "# Taille de la zone à extraire (par exemple 1/2 de la largeur et de la hauteur)\n",
    "h, w = gray.shape\n",
    "zone_h, zone_w = h // 2, w // 2\n",
    "\n",
    "# Coordonnées de la zone centrale automatiquement\n",
    "x_start = (w - zone_w) // 2\n",
    "y_start = (h - zone_h) // 2\n",
    "x_end = x_start + zone_w\n",
    "y_end = y_start + zone_h\n",
    "\n",
    "# Extraire la zone centrale\n",
    "center_crop = gray[y_start:y_end, x_start:x_end]\n",
    "\n",
    "# Zoom ×2\n",
    "zoomed = zoom_image(center_crop)\n",
    "\n",
    "# Sauvegarder l’image\n",
    "cv2.imwrite('zoom_centered.png', zoomed)\n"
   ]
  }
 ],
 "metadata": {
  "kernelspec": {
   "display_name": "Python 3",
   "language": "python",
   "name": "python3"
  },
  "language_info": {
   "codemirror_mode": {
    "name": "ipython",
    "version": 3
   },
   "file_extension": ".py",
   "mimetype": "text/x-python",
   "name": "python",
   "nbconvert_exporter": "python",
   "pygments_lexer": "ipython3",
   "version": "3.13.3"
  }
 },
 "nbformat": 4,
 "nbformat_minor": 5
}

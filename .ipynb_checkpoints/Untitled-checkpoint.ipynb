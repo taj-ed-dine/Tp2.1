{
 "cells": [
  {
   "cell_type": "code",
   "execution_count": null,
   "id": "7d6f8447",
   "metadata": {},
   "outputs": [
    {
     "name": "stdout",
     "output_type": "stream",
     "text": [
      "Erreur : l'image n'a pas été chargée.\n"
     ]
    }
   ],
   "source": [
    "import cv2\n",
    "\n",
    "image = cv2.imread('alwan.jpg')  \n",
    "\n",
    "if image is None:\n",
    "    print(\"Erreur : l'image n'a pas été chargée.\")\n",
    "else:\n",
    "\n",
    "    cv2.imshow('Mon Image', image)\n",
    "    cv2.waitKey(0)\n",
    "    cv2.destroyAllWindows()\n"
   ]
  }
 ],
 "metadata": {
  "kernelspec": {
   "display_name": "Python 3",
   "language": "python",
   "name": "python3"
  },
  "language_info": {
   "codemirror_mode": {
    "name": "ipython",
    "version": 3
   },
   "file_extension": ".py",
   "mimetype": "text/x-python",
   "name": "python",
   "nbconvert_exporter": "python",
   "pygments_lexer": "ipython3",
   "version": "3.13.3"
  }
 },
 "nbformat": 4,
 "nbformat_minor": 5
}
